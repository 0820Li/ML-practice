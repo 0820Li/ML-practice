{
 "cells": [
  {
   "cell_type": "markdown",
   "metadata": {
    "id": "bc8G3n8kgmaP"
   },
   "source": [
    "# Overview\n",
    "\n",
    "Welcome to the CIFAR Classification Challenge for 4ML3 - Machine Learning (Fall 2024)! This competition is part of your course assignment and challenges you to apply machine learning and computer vision techniques to accurately classify images in the CIFAR dataset. The CIFAR dataset includes 60,000 images across multiple categories, representing everyday objects like airplanes, cars, animals, and more.\n",
    "\n",
    "Your task is to develop a model that can accurately classify each image into its correct category. This challenge not only reinforces concepts from the course but also lets you benchmark your approach against classmates in a competitive setting.\n",
    "\n",
    "# Goal\n",
    "\n",
    "Achieve the highest classification accuracy on the CIFAR dataset to excel in this assignment and climb the leaderboard.\n",
    "\n",
    "# Why Participate?\n",
    "\n",
    "- Apply Course Knowledge: Use what you've learned in 4ML3 to tackle a real-world dataset.\n",
    "- Compete with Classmates: Test your model and ranking against peers.\n",
    "- Build Practical Skills: Gain hands-on experience in computer vision and model optimization.\n",
    "\n",
    "Ready to showcase your skills? Let’s dive in!"
   ]
  },
  {
   "cell_type": "markdown",
   "metadata": {
    "id": "BY_nE09afr2n"
   },
   "source": [
    "#Dataset Description\n",
    "\n",
    "The CIFAR-100 dataset is a widely recognized benchmark for image classification tasks. It comprises 60,000 color images with a resolution of 32x32 pixels, evenly distributed across 100 unique classes. These classes cover a broad range of categories, including animals, vehicles, and everyday objects, offering diverse challenges for image recognition models.\n",
    "\n",
    "For more details and to download the dataset, visit the official CIFAR-100 website. The training set is publicly accessible and available for download for this competition."
   ]
  },
  {
   "cell_type": "markdown",
   "metadata": {
    "id": "qu5Oyfb1hdk9"
   },
   "source": [
    "Fetch the CIFAR-100 Training Data."
   ]
  },
  {
   "cell_type": "code",
   "execution_count": 40,
   "metadata": {
    "colab": {
     "base_uri": "https://localhost:8080/"
    },
    "id": "_27Z1SHug8ov",
    "outputId": "2b185920-3bb3-431b-a63b-281137dcab0c"
   },
   "outputs": [
    {
     "name": "stdout",
     "output_type": "stream",
     "text": [
      "Files already downloaded and verified\n",
      "Batch of images shape: torch.Size([64, 3, 32, 32])\n",
      "Batch of labels: tensor([ 7,  0, 78, 85, 15,  6, 60, 86, 98, 15, 98, 68, 92, 64, 14, 40, 97, 82,\n",
      "        16, 85, 95, 46, 71, 66, 24, 13, 66, 67, 50, 55, 75, 10, 38,  9, 56, 38,\n",
      "        31, 38, 77, 90, 69, 43, 12,  0, 77, 52, 86, 93, 98, 43, 25, 65, 11, 58,\n",
      "        52, 76, 73, 68, 15, 83, 71, 79, 12,  5])\n"
     ]
    }
   ],
   "source": [
    "import torchvision.transforms as transforms\n",
    "import torchvision.datasets as datasets\n",
    "from torch.utils.data import DataLoader\n",
    "\n",
    "# Define the transformations for the dataset (you can modify this as needed)\n",
    "transform = transforms.Compose([\n",
    "    ###### Add your transformations here ########\n",
    "    transforms.Resize((32, 32)),\n",
    "    transforms.ToTensor(),\n",
    "    transforms.Normalize((0.5, 0.5, 0.5), (0.5, 0.5, 0.5))\n",
    "])\n",
    "\n",
    "# Download the CIFAR-100 training dataset\n",
    "train_dataset = datasets.CIFAR100(\n",
    "    root='./CIFAR_Data',       # Change this path if needed\n",
    "    train=True,          # Set to True to download the training set\n",
    "    download=True,       # Set to True to download if not already downloaded\n",
    "    transform=transform  # Apply transformations\n",
    ")\n",
    "##### Hyper-parameters\n",
    "batch_size = 64 #\n",
    "\n",
    "# Create a DataLoader for batch processing\n",
    "train_loader = DataLoader(\n",
    "    train_dataset,\n",
    "    batch_size=batch_size,      # Batch size (you can modify this as needed)\n",
    "    shuffle=True        # Shuffle data for training\n",
    ")\n",
    "\n",
    "# Example: Accessing one batch of images and labels\n",
    "images, labels = next(iter(train_loader))\n",
    "print(f\"Batch of images shape: {images.shape}\")\n",
    "print(f\"Batch of labels: {labels}\")\n"
   ]
  },
  {
   "cell_type": "markdown",
   "metadata": {
    "id": "dxH0S6IaiPGv"
   },
   "source": [
    "# Retrieving Images from `test.csv`\n",
    "\n",
    "You can use this code to retrieve and display images from the test.csv file, allowing for quick visualization of samples in the test set."
   ]
  },
  {
   "cell_type": "code",
   "execution_count": 41,
   "metadata": {
    "id": "s5DzZwJKiU3X"
   },
   "outputs": [
    {
     "name": "stdout",
     "output_type": "stream",
     "text": [
      "Total samples in CSV: 10000\n"
     ]
    },
    {
     "data": {
      "image/png": "[encoded data removed]",
      "text/plain": [
       "<Figure size 200x200 with 1 Axes>"
      ]
     },
     "metadata": {},
     "output_type": "display_data"
    },
    {
     "data": {
      "image/png": "[encoded data removed]",
      "text/plain": [
       "<Figure size 200x200 with 1 Axes>"
      ]
     },
     "metadata": {},
     "output_type": "display_data"
    },
    {
     "data": {
      "image/png": "[encoded data removed]",
      "text/plain": [
       "<Figure size 200x200 with 1 Axes>"
      ]
     },
     "metadata": {},
     "output_type": "display_data"
    },
    {
     "data": {
      "image/png": "[encoded data removed]",
      "text/plain": [
       "<Figure size 200x200 with 1 Axes>"
      ]
     },
     "metadata": {},
     "output_type": "display_data"
    },
    {
     "data": {
      "image/png": "[encoded data removed]",
      "text/plain": [
       "<Figure size 200x200 with 1 Axes>"
      ]
     },
     "metadata": {},
     "output_type": "display_data"
    }
   ],
   "source": [
    "import pandas as pd\n",
    "import numpy as np\n",
    "import torch\n",
    "import matplotlib.pyplot as plt\n",
    "from torchvision import transforms\n",
    "from PIL import Image\n",
    "\n",
    "csv_path = './CIFAR_Data/test.csv'\n",
    "df = pd.read_csv(csv_path)\n",
    "\n",
    "print(f\"Total samples in CSV: {len(df)}\")\n",
    "\n",
    "# Function to reverse the normalization\n",
    "def unnormalize(tensor, mean, std):\n",
    "    for t, m, s in zip(tensor, mean, std):\n",
    "        t.mul_(s).add_(m)\n",
    "    return tensor\n",
    "\n",
    "cifar100_mean = (0.5071, 0.4867, 0.4408)\n",
    "cifar100_std = (0.2675, 0.2565, 0.2761)\n",
    "\n",
    "# Select a few samples to display (e.g., first 5)\n",
    "num_samples = 5\n",
    "samples = df.sample(n=num_samples)  # Randomly select samples for diversity\n",
    "\n",
    "# Iterate through the selected samples and display images\n",
    "for index, row in samples.iterrows():\n",
    "    # Extract pixel data and convert to numpy array\n",
    "    pixel_data = row[[f'pixel_{i}' for i in range(1, 3073)]].values.astype(np.float32)\n",
    "\n",
    "    # Reshape to (3, 32, 32)\n",
    "    image = pixel_data.reshape(3, 32, 32)\n",
    "\n",
    "    # Convert to torch tensor\n",
    "    image_tensor = torch.tensor(image)\n",
    "\n",
    "    # Reverse the normalization\n",
    "    image_tensor = unnormalize(image_tensor, cifar100_mean, cifar100_std)\n",
    "\n",
    "    # Clip the values to [0, 1] range\n",
    "    image_tensor = torch.clamp(image_tensor, 0, 1)\n",
    "\n",
    "    # Convert to numpy array and transpose to (32, 32, 3) for plotting\n",
    "    image_np = image_tensor.numpy().transpose(1, 2, 0)\n",
    "\n",
    "    # Convert to PIL Image for better handling (optional)\n",
    "    image_pil = Image.fromarray((image_np * 255).astype(np.uint8))\n",
    "\n",
    "    # Display the image using matplotlib\n",
    "    plt.figure(figsize=(2,2))\n",
    "    plt.imshow(image_pil)\n",
    "    plt.axis('off')\n"
   ]
  },
  {
   "cell_type": "markdown",
   "metadata": {
    "id": "0pAeJYOOigFU"
   },
   "source": [
    "# Submission Guidelines\n",
    "\n",
    "Follow these steps to prepare and submit your predictions:\n",
    "\n",
    "1. Train Your Model: Utilize the CIFAR-100 training dataset to develop your image classification model.\n",
    "2. Predict on Custom Test Set: Apply your trained model to the provided custom test set to generate predictions.\n",
    "3. Format Your Predictions: Create a CSV file with the following columns:\n",
    "  - ID: Matches each test image’s unique identifier.\n",
    "  - LABEL: Your model’s predicted class label (an integer between 0 and 99) for each image.\n",
    "4. Ensure Correct Format: Verify that your CSV file adheres strictly to the required format to prevent submission errors.\n",
    "5. Submit for Evaluation: Upload your correctly formatted CSV file for assessment.\n",
    "\n",
    "Refer to the provided sample_submission.csv to ensure your submission meets the required format specifications."
   ]
  },
  {
   "cell_type": "markdown",
   "metadata": {
    "id": "huZHjOc_jDs7"
   },
   "source": [
    "# Evaluation\n",
    "\n",
    "The primary evaluation metric for this competition is accuracy. Your model’s accuracy score will be calculated based on the percentage of images correctly classified in the test set.\n",
    "\n",
    "## Calculation of Accuracy\n",
    "- Accuracy is calculated as follows:\n",
    "\n",
    "Accuracy=Number of Correct Predictions / Total Number of Predictions\n",
    "\n",
    "This score will determine your position on the leaderboard, where higher accuracy corresponds to a better rank. In the case of a tie, Kaggle’s default tie-breaking rules will apply.\n",
    "\n",
    "Note: Your model should assign each test image to one of the 100 classes in the CIFAR-100 dataset. Ensure your predictions are as accurate as possible to maximize your score."
   ]
  },
  {
   "cell_type": "markdown",
   "metadata": {
    "id": "15vQzduni5oe"
   },
   "source": [
    "# Submission File\n",
    "\n",
    "For each ID in the test set, you must predict the class label for each image. The submission .csv file should contain a header and be in the following format:"
   ]
  },
  {
   "cell_type": "code",
   "execution_count": null,
   "metadata": {
    "id": "kf27qlE8i9Qg"
   },
   "outputs": [],
   "source": [
    "ID,LABEL\n",
    "1,42\n",
    "2,7\n",
    "3,15\n",
    "4,23\n",
    ".\n",
    ".\n",
    ".\n"
   ]
  },
  {
   "cell_type": "markdown",
   "metadata": {
    "id": "IOhjrCA5hJou"
   },
   "source": [
    "The CIFAR-100 dataset is a collection of 60,000 color images, each of size 32x32 pixels, divided into 100 distinct classes. These images are grouped into 20 superclasses, each containing 5 subcategories. The dataset is split into 50,000 training images and 10,000 test images, with 600 images per class.\n",
    "\n",
    "Each image is labeled with one of the 100 classes, which cover a variety of objects from animals to vehicles and everyday items. Below is a list of the 100 categories:\n",
    "\n",
    "## Superclasses and Their Subclasses:\n",
    "- Aquatic mammals: beaver, dolphin, otter, seal, whale\n",
    "- Fish: aquarium fish, flatfish, ray, shark, trout\n",
    "- Flowers: sunflower, tulip, rose, daisy, dandelion\n",
    "- Food containers: bottle, bowl, can, cup, plate\n",
    "- Fruit and vegetables: apple, orange, banana, pear, pineapple\n",
    "- Household electrical devices: clock, computer keyboard, lamp, telephone, television\n",
    "- Household furniture: bed, chair, couch, table, wardrobe\n",
    "- Insects: bee, beetle, butterfly, caterpillar, cockroach\n",
    "- Large carnivores: bear, leopard, lion, tiger, wolf\n",
    "- Large man-made outdoor things: bridge, castle, house, road, skyscraper\n",
    "- Large natural outdoor scenes: cloud, forest, mountain, plain, sea\n",
    "- Large omnivores and herbivores: camel, cattle, chimpanzee, elephant, kangaroo\n",
    "- Medium-sized mammals: fox, porcupine, possum, raccoon, skunk\n",
    "- Non-insect invertebrates: crab, lobster, snail, spider, worm\n",
    "- People: baby, boy, girl, man, woman\n",
    "Reptiles: crocodile, dinosaur, lizard, snake, turtle\n",
    "- Small mammals: hamster, mouse, rabbit, shrew, squirrel\n",
    "- Trees: maple, oak, palm, pine, willow\n",
    "- Vehicles 1: bicycle, bus, motorcycle, pickup truck, train\n",
    "- Vehicles 2: lawn mower, rocket, streetcar, tank, tractor\n",
    "\n",
    "The images in CIFAR-100 are diverse and challenging, making this dataset an ideal testbed for developing and evaluating machine learning models for image classification tasks.\n",
    "\n",
    "This code snippet creates a DataFrame that maps each CIFAR-100 label (0-99) to its corresponding class name. You can use it to quickly look up class names based on label numbers:"
   ]
  },
  {
   "cell_type": "code",
   "execution_count": 42,
   "metadata": {
    "colab": {
     "base_uri": "https://localhost:8080/",
     "height": 255
    },
    "id": "aOv4HMzyh1SC",
    "outputId": "1c483c35-4a57-4a5b-d975-6a057db767ae"
   },
   "outputs": [
    {
     "name": "stdout",
     "output_type": "stream",
     "text": [
      "   LABEL     Class Name\n",
      "0      0          apple\n",
      "1      1  aquarium_fish\n",
      "2      2           baby\n",
      "3      3           bear\n",
      "4      4         beaver\n"
     ]
    }
   ],
   "source": [
    "cifar100_label_names = [\n",
    "    \"apple\", \"aquarium_fish\", \"baby\", \"bear\", \"beaver\", \"bed\", \"bee\", \"beetle\", \"bicycle\", \"bottle\", \"bowl\", \"boy\", \"bridge\", \"bus\", \"butterfly\", \"camel\", \"can\", \"castle\", \"caterpillar\", \"cattle\", \"chair\", \"chimpanzee\", \"clock\", \"cloud\", \"cockroach\", \"couch\", \"crab\", \"crocodile\", \"cup\", \"dinosaur\", \"dolphin\", \"elephant\", \"flatfish\", \"forest\", \"fox\", \"girl\", \"hamster\", \"house\", \"kangaroo\", \"keyboard\", \"lamp\", \"lawn_mower\", \"leopard\", \"lion\", \"lizard\", \"lobster\", \"man\", \"maple_tree\", \"motorcycle\", \"mountain\", \"mouse\", \"mushroom\", \"oak_tree\", \"orange\", \"orchid\", \"otter\", \"palm_tree\", \"pear\", \"pickup_truck\", \"pine_tree\", \"plain\", \"plate\", \"poppy\", \"porcupine\", \"possum\", \"rabbit\", \"raccoon\", \"ray\", \"road\", \"rocket\", \"rose\", \"sea\", \"seal\", \"shark\", \"shrew\", \"skunk\", \"skyscraper\", \"snail\", \"snake\", \"spider\", \"squirrel\", \"streetcar\", \"sunflower\", \"sweet_pepper\", \"table\", \"tank\", \"telephone\", \"television\", \"tiger\", \"tractor\", \"train\", \"trout\", \"tulip\", \"turtle\", \"wardrobe\", \"whale\", \"willow_tree\", \"wolf\", \"woman\", \"worm\"\n",
    "]\n",
    "label_mapping_df = pd.DataFrame({\n",
    "    'LABEL': range(100),\n",
    "    'Class Name': cifar100_label_names\n",
    "})\n",
    "# Display the first few rows of the DataFrame\n",
    "print(label_mapping_df.head())\n"
   ]
  },
  {
   "cell_type": "markdown",
   "metadata": {
    "id": "skxUyMJof3d8"
   },
   "source": [
    "# Custom Test Set\n",
    "\n",
    "Please note that our test set differs from the standard CIFAR-100 test set. We have provided a unique custom test set specifically for this competition. Your goal is to train your model using the original CIFAR-100 training data and predict labels for the images in our custom test set."
   ]
  },
  {
   "cell_type": "markdown",
   "metadata": {
    "id": "3wkOvhB8f8Pw"
   },
   "source": [
    "# Understanding test.csv\n",
    "\n",
    "The test.csv file contains the data required for making predictions. Here's a breakdown of its structure:\n",
    "\n",
    "- ID: A unique identifier for each test image, used to align your predictions with the submission.\n",
    "- Image Data: Pixel values of each image, formatted for model processing."
   ]
  },
  {
   "cell_type": "markdown",
   "metadata": {
    "id": "QJvGtsnzgO9-"
   },
   "source": [
    "# Steps to Use test.csv\n",
    "\n",
    "1. Exclude the ID Column: Remove the ID column before inputting the data into your model, as it is not part of the image features.\n",
    "2. Preprocess the Data: Apply any necessary preprocessing to match your model’s input requirements.\n",
    "3. Generate Predictions: Use your trained model to predict labels for the processed test data.\n",
    "\n",
    "After generating predictions, ensure your submission file (submission.csv) includes both the ID and LABEL columns, formatted according to the guidelines."
   ]
  },
  {
   "cell_type": "markdown",
   "metadata": {},
   "source": [
    "-----------------------------------------------------------------------"
   ]
  },
  {
   "cell_type": "markdown",
   "metadata": {},
   "source": [
    "1. Train You Model:\n",
    "\n",
    "Utilize the CIFAR-100 training dataset to develop your image classification model."
   ]
  },
  {
   "cell_type": "code",
   "execution_count": null,
   "metadata": {},
   "outputs": [
    {
     "name": "stdout",
     "output_type": "stream",
     "text": [
      "Train Epoch 1/20, Loss: 4.110441615209555, Accuracy: 5.844%\n",
      "Train Epoch 2/20, Loss: 3.577148932935027, Accuracy: 13.806%\n",
      "Train Epoch 3/20, Loss: 3.227970868120413, Accuracy: 20.274%\n",
      "Train Epoch 4/20, Loss: 2.986966516355724, Accuracy: 24.778%\n",
      "Train Epoch 5/20, Loss: 2.797434077848254, Accuracy: 28.622%\n",
      "Train Epoch 6/20, Loss: 2.6448333338093573, Accuracy: 31.436%\n",
      "Train Epoch 7/20, Loss: 2.529741207656958, Accuracy: 34.042%\n",
      "Train Epoch 8/20, Loss: 2.415818886073959, Accuracy: 36.028%\n",
      "Train Epoch 9/20, Loss: 2.324403001066974, Accuracy: 37.924%\n",
      "Train Epoch 10/20, Loss: 2.2510025071366058, Accuracy: 39.468%\n",
      "Train Epoch 11/20, Loss: 2.181852614940585, Accuracy: 40.872%\n",
      "Train Epoch 12/20, Loss: 2.107633842684119, Accuracy: 42.752%\n",
      "Train Epoch 13/20, Loss: 2.0430637697124725, Accuracy: 44.03%\n",
      "Train Epoch 14/20, Loss: 2.0070960590296694, Accuracy: 44.688%\n",
      "Train Epoch 15/20, Loss: 1.9459495227355177, Accuracy: 46.116%\n",
      "Train Epoch 16/20, Loss: 1.8987676252794388, Accuracy: 47.196%\n",
      "Train Epoch 17/20, Loss: 1.8543247364061264, Accuracy: 48.15%\n",
      "Train Epoch 18/20, Loss: 1.8191024124469903, Accuracy: 48.966%\n",
      "Train Epoch 19/20, Loss: 1.7742656030313437, Accuracy: 49.77%\n",
      "Train Epoch 20/20, Loss: 1.7362341310666956, Accuracy: 50.836%\n"
     ]
    }
   ],
   "source": [
    "# Train the model\n",
    "'''\n",
    "Already have: \n",
    "import torchvision.transforms as transforms\n",
    "import torchvision.datasets as datasets\n",
    "from torch.utils.data import DataLoader\n",
    "import pandas as pd\n",
    "import pandas as pd\n",
    "import numpy as np\n",
    "import torch\n",
    "import matplotlib.pyplot as plt\n",
    "from torchvision import transforms\n",
    "from PIL import Image\n",
    "'''\n",
    "import torch.nn as nn\n",
    "import torch.nn.functional as F\n",
    "import torch.optim as optim\n",
    "\n",
    "class CIFAR100_CNN(nn.Module):\n",
    "    def __init__(self):\n",
    "        super(CIFAR100_CNN, self).__init__()\n",
    "        self.conv1 = nn.Conv2d(3, 32, kernel_size=3, padding=1)\n",
    "        self.conv2 = nn.Conv2d(32, 64, kernel_size=3, padding=1)\n",
    "        self.conv3 = nn.Conv2d(64, 128, kernel_size=3, padding=1)\n",
    "        self.pool = nn.MaxPool2d(kernel_size=2, stride=2, padding=0)\n",
    "        self.fc1 = nn.Linear(128 * 4 * 4, 512)\n",
    "        self.fc2 = nn.Linear(512, 256)\n",
    "        self.fc3 = nn.Linear(256, 100)\n",
    "        self.dropout = nn.Dropout(0.5)\n",
    "\n",
    "    def forward(self, x):\n",
    "        x = self.pool(F.relu(self.conv1(x)))\n",
    "        x = self.pool(F.relu(self.conv2(x)))\n",
    "        x = self.pool(F.relu(self.conv3(x)))\n",
    "        x = x.view(-1, 128 * 4 * 4)\n",
    "        x = F.relu(self.fc1(x))\n",
    "        x = self.dropout(x)\n",
    "        x = F.relu(self.fc2(x))\n",
    "        x = self.dropout(x)\n",
    "        x = self.fc3(x)\n",
    "        return x\n",
    "\n",
    "# Create an instance of the model\n",
    "model = CIFAR100_CNN()\n",
    "\n",
    "# Define the loss function and optimizer\n",
    "criterion = nn.CrossEntropyLoss()\n",
    "optimizer = optim.Adam(model.parameters(), lr=0.001)\n",
    "\n",
    "# Train the model\n",
    "num_epochs = 20\n",
    "device = torch.device('cuda' if torch.cuda.is_available() else 'cpu')\n",
    "model.to(device)\n",
    "\n",
    "for epoch in range(num_epochs):\n",
    "    model.train()\n",
    "    running_loss = 0.0\n",
    "    corrects = 0\n",
    "    total = 0\n",
    "    for inputs, labels in train_loader:\n",
    "        inputs, labels = inputs.to(device), labels.to(device)\n",
    "        optimizer.zero_grad()\n",
    "        outputs = model(inputs) \n",
    "        loss = criterion(outputs, labels)\n",
    "        loss.backward()\n",
    "        optimizer.step()\n",
    "        running_loss += loss.item()\n",
    "        # calculate accuracy\n",
    "        _, preds = torch.max(outputs, 1)\n",
    "        corrects += (preds == labels).sum().item() # if the prediction is correct\n",
    "        total += labels.size(0) # total number of labels\n",
    "\n",
    "    accuracy = 100 * corrects / total\n",
    "\n",
    "    \n",
    "    print(f'Train Epoch {epoch+1}/{num_epochs}, Loss: {running_loss/len(train_loader)}, Accuracy: {accuracy}%')\n"
   ]
  },
  {
   "cell_type": "markdown",
   "metadata": {},
   "source": [
    "2. Predict on Custom Test Set:\n",
    "\n",
    "Apply your trained model to the provided custom test set to generate predictions."
   ]
  },
  {
   "cell_type": "code",
   "execution_count": 50,
   "metadata": {},
   "outputs": [],
   "source": [
    "from torch.utils.data import Dataset\n",
    "'''\n",
    "Steps to use test.csv\n",
    "1. exclude the ID column\n",
    "2. preprocess the data, such as normalization and reshaping\n",
    "3. generate predictions, using the trained model to predict labels\n",
    "4. save the predictions to a CSV file\n",
    "5. format the CSV file to include the ID column\n",
    "'''\n",
    "# remove the ID column\n",
    "df_data= df.drop(columns=['ID'])\n",
    "\n",
    "'''\n",
    "transform= transforms.Compose([\n",
    "    ###### Add your transformations here ########\n",
    "    transforms.Resize((32, 32)),\n",
    "    transforms.ToTensor(),\n",
    "    transforms.Normalize((0.5, 0.5, 0.5), (0.5, 0.5, 0.5))\n",
    "])'''\n",
    "\n",
    "class PreProcess(Dataset):\n",
    "    def __init__(self, data, transform=None):\n",
    "        self.data = data\n",
    "        self.transform = transform\n",
    "\n",
    "    def __len__(self):\n",
    "        return len(self.data)\n",
    "\n",
    "    def __getitem__(self, idx):\n",
    "        image = self.data.iloc[idx].values.astype(np.float32)\n",
    "        image = image.reshape(3, 32, 32)\n",
    "        # Convert to PIL Image\n",
    "        image = Image.fromarray(image.transpose(1, 2, 0).astype(np.uint8)) \n",
    "        # image = torch.tensor(image)\n",
    "        if self.transform:\n",
    "            image = self.transform(image)\n",
    "        return image\n",
    "\n",
    "# Create a DataLoader for batch processing\n",
    "test_dataset = PreProcess(df_data, transform)\n",
    "test_loader = DataLoader(test_dataset, batch_size=batch_size, shuffle=False)\n",
    "\n",
    "# Generate predictions\n",
    "device = torch.device('cuda' if torch.cuda.is_available() else 'cpu')\n",
    "model.to(device)\n",
    "model.eval()\n",
    "predictions = []\n",
    "\n",
    "with torch.no_grad():\n",
    "    for inputs in test_loader:\n",
    "        inputs = inputs.to(device)\n",
    "        outputs = model(inputs)\n",
    "        _, preds = torch.max(outputs, 1)\n",
    "        predictions.extend(preds.cpu().numpy())\n",
    "\n",
    "# Save the predictions to a CSV file\n",
    "output_df = pd.DataFrame({'LABEL': predictions})\n",
    "# Format the CSV file to include the ID column\n",
    "output_df.insert(0, 'ID', df['ID'])\n",
    "output_df.to_csv('predictions.csv', index=False)\n"
   ]
  },
  {
   "cell_type": "markdown",
   "metadata": {},
   "source": [
    "3. Format Your Predictions: \n",
    "\n",
    "Create a CSV file with the following columns:\n",
    "  - ID: Matches each test image’s unique identifier.\n",
    "  - LABEL: Your model’s predicted class label (an integer between 0 and 99) for each image.\n"
   ]
  },
  {
   "cell_type": "markdown",
   "metadata": {},
   "source": [
    "4. Ensure Correct Format: \n",
    "\n",
    "Verify that your CSV file adheres strictly to the required format to prevent submission errors.\n"
   ]
  },
  {
   "cell_type": "markdown",
   "metadata": {},
   "source": [
    "5. Submit for Evaluation: Upload your correctly formatted CSV file for assessment."
   ]
  }
 ],
 "metadata": {
  "colab": {
   "provenance": []
  },
  "kernelspec": {
   "display_name": "Python 3",
   "name": "python3"
  },
  "language_info": {
   "codemirror_mode": {
    "name": "ipython",
    "version": 3
   },
   "file_extension": ".py",
   "mimetype": "text/x-python",
   "name": "python",
   "nbconvert_exporter": "python",
   "pygments_lexer": "ipython3",
   "version": "3.11.9"
  }
 },
 "nbformat": 4,
 "nbformat_minor": 0
}
